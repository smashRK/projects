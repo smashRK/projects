{
 "cells": [
  {
   "cell_type": "code",
   "execution_count": 5,
   "id": "5d7666c7",
   "metadata": {},
   "outputs": [],
   "source": [
    "import numpy as np\n",
    "import cv2\n",
    "import matplotlib.pyplot as plt \n",
    "import random\n",
    "import pickle"
   ]
  },
  {
   "cell_type": "code",
   "execution_count": 6,
   "id": "3102f8a1",
   "metadata": {},
   "outputs": [],
   "source": [
    "import os"
   ]
  },
  {
   "cell_type": "code",
   "execution_count": 9,
   "id": "9d843f0d",
   "metadata": {},
   "outputs": [],
   "source": [
    "DIRCECTORY = r'D:\\cat and dog dataset\\training_set\\training_set'\n",
    "CATEGORIES = ['cats', 'dogs']"
   ]
  },
  {
   "cell_type": "code",
   "execution_count": 15,
   "id": "9a22782d",
   "metadata": {},
   "outputs": [],
   "source": [
    "img_size = 100\n",
    "\n",
    "data = []\n",
    "\n",
    "for category in CATEGORIES:\n",
    "        folder = os.path.join(DIRCECTORY, category)\n",
    "        label = CATEGORIES.index(category)\n",
    "        for img in os.listdir(folder):\n",
    "            img_path = os.path.join(folder, img)\n",
    "            img_arr = cv2.imread(img_path)\n",
    "            img_arr = cv2.resize(img_arr, (img_size, img_size))\n",
    "            data.append([img_arr, label])"
   ]
  },
  {
   "cell_type": "code",
   "execution_count": 16,
   "id": "5776068c",
   "metadata": {},
   "outputs": [
    {
     "data": {
      "text/plain": [
       "8005"
      ]
     },
     "execution_count": 16,
     "metadata": {},
     "output_type": "execute_result"
    }
   ],
   "source": [
    "len(data)"
   ]
  },
  {
   "cell_type": "code",
   "execution_count": 17,
   "id": "83631810",
   "metadata": {},
   "outputs": [],
   "source": [
    "random.shuffle(data)"
   ]
  },
  {
   "cell_type": "code",
   "execution_count": 18,
   "id": "4e0b031b",
   "metadata": {},
   "outputs": [],
   "source": [
    "x = []\n",
    "y = []\n",
    "\n",
    "for features, labels in data:\n",
    "    x.append(features)\n",
    "    y.append(labels)"
   ]
  },
  {
   "cell_type": "code",
   "execution_count": 19,
   "id": "1a5faecd",
   "metadata": {},
   "outputs": [],
   "source": [
    "x = np.array(x)\n",
    "y = np.array(y)"
   ]
  },
  {
   "cell_type": "code",
   "execution_count": 22,
   "id": "a14a43db",
   "metadata": {},
   "outputs": [],
   "source": [
    "pickle.dump(x, open('x.pkl', 'wb'))\n",
    "pickle.dump(y, open('y.pkl', 'wb'))"
   ]
  },
  {
   "cell_type": "code",
   "execution_count": 23,
   "id": "e28213de",
   "metadata": {},
   "outputs": [],
   "source": [
    "x= x/255"
   ]
  },
  {
   "cell_type": "code",
   "execution_count": 25,
   "id": "3ad625de",
   "metadata": {},
   "outputs": [
    {
     "data": {
      "text/plain": [
       "(8005, 100, 100, 3)"
      ]
     },
     "execution_count": 25,
     "metadata": {},
     "output_type": "execute_result"
    }
   ],
   "source": [
    "x.shape"
   ]
  },
  {
   "cell_type": "code",
   "execution_count": 27,
   "id": "60960127",
   "metadata": {},
   "outputs": [],
   "source": [
    "from keras.models import Sequential\n",
    "from keras.layers import Conv2D, MaxPooling2D, Flatten, Dense"
   ]
  },
  {
   "cell_type": "code",
   "execution_count": 31,
   "id": "1de9e4e6",
   "metadata": {},
   "outputs": [],
   "source": [
    "model = Sequential()\n",
    "\n",
    "model.add( Conv2D(64, (3,3), activation='relu'))\n",
    "model.add( MaxPooling2D((2,2)))\n",
    "\n",
    "model.add( Conv2D(64, (3,3), activation='relu'))\n",
    "model.add( MaxPooling2D((2,2)))\n",
    "\n",
    "model.add(Flatten())\n",
    "\n",
    "model.add( Dense(128, input_shape = x.shape[1:], activation = 'relu'))\n",
    "\n",
    "model.add( Dense(2, activation= 'softmax'))"
   ]
  },
  {
   "cell_type": "code",
   "execution_count": 32,
   "id": "49dc3c9b",
   "metadata": {},
   "outputs": [],
   "source": [
    "model.compile(optimizer= 'adam', loss = 'sparse_categorical_crossentropy', metrics=['accuracy'])"
   ]
  },
  {
   "cell_type": "code",
   "execution_count": 33,
   "id": "2c893922",
   "metadata": {},
   "outputs": [
    {
     "name": "stdout",
     "output_type": "stream",
     "text": [
      "Epoch 1/5\n",
      "226/226 [==============================] - 90s 389ms/step - loss: 0.6918 - accuracy: 0.5727 - val_loss: 0.6571 - val_accuracy: 0.6230\n",
      "Epoch 2/5\n",
      "226/226 [==============================] - 84s 370ms/step - loss: 0.6061 - accuracy: 0.6824 - val_loss: 0.6154 - val_accuracy: 0.6704\n",
      "Epoch 3/5\n",
      "226/226 [==============================] - 85s 375ms/step - loss: 0.5234 - accuracy: 0.7419 - val_loss: 0.6335 - val_accuracy: 0.6642\n",
      "Epoch 4/5\n",
      "226/226 [==============================] - 84s 371ms/step - loss: 0.4208 - accuracy: 0.8040 - val_loss: 0.6045 - val_accuracy: 0.7066\n",
      "Epoch 5/5\n",
      "226/226 [==============================] - 85s 377ms/step - loss: 0.2825 - accuracy: 0.8798 - val_loss: 0.8315 - val_accuracy: 0.6754\n"
     ]
    },
    {
     "data": {
      "text/plain": [
       "<keras.callbacks.History at 0x235022ddf70>"
      ]
     },
     "execution_count": 33,
     "metadata": {},
     "output_type": "execute_result"
    }
   ],
   "source": [
    "model.fit(x, y, epochs=5, validation_split=0.1)"
   ]
  },
  {
   "cell_type": "code",
   "execution_count": null,
   "id": "20d9155f",
   "metadata": {},
   "outputs": [],
   "source": []
  }
 ],
 "metadata": {
  "kernelspec": {
   "display_name": "Python 3 (ipykernel)",
   "language": "python",
   "name": "python3"
  },
  "language_info": {
   "codemirror_mode": {
    "name": "ipython",
    "version": 3
   },
   "file_extension": ".py",
   "mimetype": "text/x-python",
   "name": "python",
   "nbconvert_exporter": "python",
   "pygments_lexer": "ipython3",
   "version": "3.9.13"
  }
 },
 "nbformat": 4,
 "nbformat_minor": 5
}
